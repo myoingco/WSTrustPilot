{
 "cells": [
  {
   "cell_type": "code",
   "execution_count": 1,
   "metadata": {},
   "outputs": [],
   "source": [
    "from selenium import webdriver\n",
    "from selenium.webdriver.chrome.options import Options\n",
    "from bs4 import BeautifulSoup\n",
    "import time\n",
    "import csv"
   ]
  },
  {
   "cell_type": "code",
   "execution_count": 2,
   "metadata": {},
   "outputs": [],
   "source": [
    "# Setup headless browser\n",
    "options = Options()\n",
    "options.add_argument(\"--headless\")  # Remove this line if you want to see the browser\n",
    "options.add_argument(\"--disable-gpu\")"
   ]
  },
  {
   "cell_type": "code",
   "execution_count": 4,
   "metadata": {},
   "outputs": [],
   "source": [
    "# Start browser\n",
    "driver = webdriver.Chrome(options=options)\n",
    "\n",
    "base_url = \"https://uk.trustpilot.com/review/moorebarlow.com?page=\"\n",
    "\n",
    "results = []"
   ]
  },
  {
   "cell_type": "code",
   "execution_count": 5,
   "metadata": {},
   "outputs": [
    {
     "name": "stdout",
     "output_type": "stream",
     "text": [
      "🔄 Scraping page 1...\n",
      "🔄 Scraping page 2...\n",
      "🔄 Scraping page 3...\n",
      "🔄 Scraping page 4...\n",
      "🔄 Scraping page 5...\n",
      "🔄 Scraping page 6...\n"
     ]
    }
   ],
   "source": [
    "# Loop through pages 1 to 6\n",
    "for page in range(1, 7):\n",
    "    print(f\"🔄 Scraping page {page}...\")\n",
    "    driver.get(base_url + str(page))\n",
    "    time.sleep(3)  # Give time for page and JS to load\n",
    "\n",
    "    html = driver.page_source\n",
    "    soup = BeautifulSoup(html, \"html.parser\")\n",
    "\n",
    "    reviews = soup.find_all(\"article\")\n",
    "\n",
    "    if not reviews:\n",
    "        print(f\"⚠️ No reviews found on page {page}\")\n",
    "        continue\n",
    "\n",
    "    for r in reviews:\n",
    "        name_block = r.find(\"span\", attrs={\"data-consumer-name-typography\": \"true\"})\n",
    "        customer_name = name_block.get_text(strip=True) if name_block else \"\"\n",
    "\n",
    "        text_block = r.find(\"p\", attrs={\"data-service-review-text-typography\": \"true\"})\n",
    "        review_text = text_block.get_text(strip=True) if text_block else \"\"\n",
    "\n",
    "        rating_block = r.find(\"div\", attrs={\"data-service-review-rating\": True})\n",
    "        rating = rating_block[\"data-service-review-rating\"] if rating_block else \"\"\n",
    "\n",
    "        date_block = r.find(\"time\")\n",
    "        review_date = date_block[\"datetime\"] if date_block else \"\"\n",
    "\n",
    "        results.append([customer_name, rating, review_text, review_date])\n",
    "\n",
    "driver.quit()"
   ]
  },
  {
   "cell_type": "code",
   "execution_count": 6,
   "metadata": {},
   "outputs": [
    {
     "name": "stdout",
     "output_type": "stream",
     "text": [
      "✅ Done! 129 reviews saved to trustpilot_reviews.csv\n"
     ]
    }
   ],
   "source": [
    "# Save to CSV\n",
    "with open(\"trustpilot_reviews.csv\", \"w\", newline=\"\", encoding=\"utf-8\") as f:\n",
    "    writer = csv.writer(f)\n",
    "    writer.writerow([\"Customer Name\", \"Rating\", \"Review Text\", \"Date\"])\n",
    "    writer.writerows(results)\n",
    "\n",
    "print(f\"✅ Done! {len(results)} reviews saved to trustpilot_reviews.csv\")"
   ]
  }
 ],
 "metadata": {
  "kernelspec": {
   "display_name": "base",
   "language": "python",
   "name": "python3"
  },
  "language_info": {
   "codemirror_mode": {
    "name": "ipython",
    "version": 3
   },
   "file_extension": ".py",
   "mimetype": "text/x-python",
   "name": "python",
   "nbconvert_exporter": "python",
   "pygments_lexer": "ipython3",
   "version": "3.9.18"
  }
 },
 "nbformat": 4,
 "nbformat_minor": 2
}
